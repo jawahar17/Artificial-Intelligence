{
  "nbformat": 4,
  "nbformat_minor": 0,
  "metadata": {
    "colab": {
      "name": "Untitled6.ipynb",
      "provenance": [],
      "include_colab_link": true
    },
    "kernelspec": {
      "name": "python3",
      "display_name": "Python 3"
    }
  },
  "cells": [
    {
      "cell_type": "markdown",
      "metadata": {
        "id": "view-in-github",
        "colab_type": "text"
      },
      "source": [
        "<a href=\"https://colab.research.google.com/github/jawahar17/Artificial-Intelligence/blob/master/OCR.ipynb\" target=\"_parent\"><img src=\"https://colab.research.google.com/assets/colab-badge.svg\" alt=\"Open In Colab\"/></a>"
      ]
    },
    {
      "cell_type": "code",
      "metadata": {
        "id": "wDO16fQG_lQL",
        "colab_type": "code",
        "colab": {
          "base_uri": "https://localhost:8080/",
          "height": 833
        },
        "outputId": "424e6eba-c8d0-4da2-a5f1-34a30c8177ad"
      },
      "source": [
        "import os \n",
        "import tempfile\n",
        "import subprocess\n",
        "def ocr(path):\n",
        "  temp=tempfile.NamedTemporaryFile(delete=False)\n",
        "  process=subprocess.Popen(['tesseract',path,temp.name],stdout=subprocess.PIPE, stderr=subprocess.STDOUT)\n",
        "  process.communicate()\n",
        "  with open(temp.name+'.txt','r') as handle:\n",
        "    contents=handle.read()\n",
        "  os.remove(temp.name+'.txt')\n",
        "  os.remove(temp.name)\n",
        "  return contents\n",
        "\n",
        "str=ocr('txt.jpeg')\n",
        "print(str)"
      ],
      "execution_count": 10,
      "outputs": [
        {
          "output_type": "stream",
          "text": [
            "————e—eeS—— kaa\n",
            "\n",
            "Dear Student,\n",
            "\n",
            "Click on the Quantitative Aptitude -\n",
            "Module 1 to view the questions. The\n",
            "link will be opened at 10.00 AM on\n",
            "Tuesday, 24th Dec, 2019 and will be\n",
            "closed by 11.32 AM. The test is timed\n",
            "for 90 minutes.\n",
            "\n",
            "Click submit button at the end of the\n",
            "page and submit the form before\n",
            "11.32 AM. The forms submitted after\n",
            "11.35 will not get accepted.\n",
            "\n",
            "Till 10.00 AM on Tuesday, if you click\n",
            "the link you will get the message \"The\n",
            "form Quantitative Aptitude - Module 1\n",
            "is no longer accepting responses. Try\n",
            "contacting the owner of the form if\n",
            "you think this is a mistake.\"\n",
            "\n",
            "To take this test students have to\n",
            "login through the rit chennai mailid.\n",
            "If you login through any other google\n",
            "id you will get error messages.\n",
            "\n",
            "The link will be opened only at 10.00\n",
            "AM sharp on the Test day and closed\n",
            "at 11.32 AM.This test is open for all\n",
            "the students of Third Year.\n",
            "https://forms.gle\n",
            "/U8QuQt756XzqkRVF8\n",
            "\n",
            "This test has 10 questions each\n",
            "\n",
            "from the topics Numbers, HCF &\n",
            "LCM of Numbers, Decimal fraction,\n",
            "simplification. Prepare well for the\n",
            "test.\n",
            "\n",
            "Your marks and answers for the test\n",
            "\n",
            "© | | »>o@\n",
            "\n",
            "¥\n",
            "\f\n"
          ],
          "name": "stdout"
        }
      ]
    },
    {
      "cell_type": "code",
      "metadata": {
        "id": "4qCSZwrW_4rX",
        "colab_type": "code",
        "colab": {
          "base_uri": "https://localhost:8080/",
          "height": 544
        },
        "outputId": "2a190b62-cab4-42ed-f871-bd50e154b379"
      },
      "source": [
        "!apt-get install tesseract-ocr"
      ],
      "execution_count": 9,
      "outputs": [
        {
          "output_type": "stream",
          "text": [
            "Reading package lists... Done\n",
            "Building dependency tree       \n",
            "Reading state information... Done\n",
            "The following package was automatically installed and is no longer required:\n",
            "  libnvidia-common-430\n",
            "Use 'apt autoremove' to remove it.\n",
            "The following additional packages will be installed:\n",
            "  tesseract-ocr-eng tesseract-ocr-osd\n",
            "The following NEW packages will be installed:\n",
            "  tesseract-ocr tesseract-ocr-eng tesseract-ocr-osd\n",
            "0 upgraded, 3 newly installed, 0 to remove and 7 not upgraded.\n",
            "Need to get 4,795 kB of archives.\n",
            "After this operation, 15.8 MB of additional disk space will be used.\n",
            "Get:1 http://archive.ubuntu.com/ubuntu bionic/universe amd64 tesseract-ocr-eng all 4.00~git24-0e00fe6-1.2 [1,588 kB]\n",
            "Get:2 http://archive.ubuntu.com/ubuntu bionic/universe amd64 tesseract-ocr-osd all 4.00~git24-0e00fe6-1.2 [2,989 kB]\n",
            "Get:3 http://archive.ubuntu.com/ubuntu bionic/universe amd64 tesseract-ocr amd64 4.00~git2288-10f4998a-2 [218 kB]\n",
            "Fetched 4,795 kB in 1s (4,458 kB/s)\n",
            "Selecting previously unselected package tesseract-ocr-eng.\n",
            "(Reading database ... 135004 files and directories currently installed.)\n",
            "Preparing to unpack .../tesseract-ocr-eng_4.00~git24-0e00fe6-1.2_all.deb ...\n",
            "Unpacking tesseract-ocr-eng (4.00~git24-0e00fe6-1.2) ...\n",
            "Selecting previously unselected package tesseract-ocr-osd.\n",
            "Preparing to unpack .../tesseract-ocr-osd_4.00~git24-0e00fe6-1.2_all.deb ...\n",
            "Unpacking tesseract-ocr-osd (4.00~git24-0e00fe6-1.2) ...\n",
            "Selecting previously unselected package tesseract-ocr.\n",
            "Preparing to unpack .../tesseract-ocr_4.00~git2288-10f4998a-2_amd64.deb ...\n",
            "Unpacking tesseract-ocr (4.00~git2288-10f4998a-2) ...\n",
            "Setting up tesseract-ocr-osd (4.00~git24-0e00fe6-1.2) ...\n",
            "Setting up tesseract-ocr-eng (4.00~git24-0e00fe6-1.2) ...\n",
            "Setting up tesseract-ocr (4.00~git2288-10f4998a-2) ...\n",
            "Processing triggers for man-db (2.8.3-2ubuntu0.1) ...\n"
          ],
          "name": "stdout"
        }
      ]
    }
  ]
}